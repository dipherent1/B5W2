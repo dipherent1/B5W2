{
 "cells": [
  {
   "cell_type": "code",
   "execution_count": null,
   "id": "1365f305",
   "metadata": {},
   "outputs": [
    {
     "name": "stderr",
     "output_type": "stream",
     "text": [
      "/home/binyammulat/Projects/10_acadamy/B5W2/B5W2/.venv/lib64/python3.13/site-packages/tqdm/auto.py:21: TqdmWarning: IProgress not found. Please update jupyter and ipywidgets. See https://ipywidgets.readthedocs.io/en/stable/user_install.html\n",
      "  from .autonotebook import tqdm as notebook_tqdm\n",
      "None of PyTorch, TensorFlow >= 2.0, or Flax have been found. Models won't be available and only tokenizers, configuration and file/data utilities can be used.\n",
      "None of PyTorch, TensorFlow >= 2.0, or Flax have been found. Models won't be available and only tokenizers, configuration and file/data utilities can be used.\n"
     ]
    }
   ],
   "source": [
    "# analysis_notebook.ipynb\n",
    "from src.utils import *\n",
    "\n",
    "# 1. Load data\n",
    "df = pd.read_csv(\"reviews.csv\")\n",
    "\n",
    "# 2. Run pipeline\n",
    "english_df = filter_english(df)\n",
    "english_df['clean_text'] = preprocess_text(english_df['review'])\n",
    "english_df = add_sentiment(english_df, 'clean_text')\n",
    "\n",
    "keywords, _ = extract_keywords(\n",
    "    english_df['clean_text'],\n",
    "    ngram_range=(1, 3),  # Customized\n",
    "    max_features=100\n",
    ")\n",
    "\n",
    "theme_rules = {\n",
    "    \"Login Issues\": [\"login\", \"password\"],\n",
    "    \"Performance\": [\"slow\", \"lag\"],\n",
    "    \"Bugs\": [\"error\", \"crash\"]\n",
    "}\n",
    "english_df = assign_themes(english_df, 'clean_text', theme_rules)\n",
    "\n",
    "# 3. Visualize\n",
    "fig = generate_visualizations(english_df, keywords)\n",
    "fig.savefig(\"analysis_results.png\")\n",
    "\n",
    "# 4. Save\n",
    "english_df.to_csv(\"analyzed_reviews.csv\", index=False)"
   ]
  }
 ],
 "metadata": {
  "kernelspec": {
   "display_name": ".venv",
   "language": "python",
   "name": "python3"
  },
  "language_info": {
   "codemirror_mode": {
    "name": "ipython",
    "version": 3
   },
   "file_extension": ".py",
   "mimetype": "text/x-python",
   "name": "python",
   "nbconvert_exporter": "python",
   "pygments_lexer": "ipython3",
   "version": "3.13.3"
  }
 },
 "nbformat": 4,
 "nbformat_minor": 5
}
